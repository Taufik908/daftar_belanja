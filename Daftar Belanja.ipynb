# Inisialisasi daftar belanja kosong
daftar_belanja = []

# Loop program
while True:
    # Menu
    print("\n Aplikasi Daftar Belanja Sederhana")
    print("1. Tambah Item")
    print("2. Hapus item")
    print("3. Tampilkan daftar belanja")
    print("4. Keluar")
    
    pilihan = int(input("Masukkan pilihan Anda: (1--4)"))

    # Tambah
    if pilihan == 1:
        item = input("Masukkan nama item: ")
        daftar_belanja.append(item)
        print(f"{item} Berhasil ditambahkan ke daftar belanja")
    # Hapus
    elif pilihan == 2:
            print("\nDaftar Belanja:")
            print(daftar_belanja)
            hapus = input("Masukkan nama item yang ingin dihapus: ")
            if hapus in daftar_belanja:
                daftar_belanja.remove(hapus)
                print(f"{hapus} telah dihapus")
            elif hapus not in daftar_belanja:
                print(f"{hapus} tidak ditemukan")
    # Tampilkan daftar belanja     
    elif pilihan == 3:
        print("\nDaftar Belanja:")
        print(daftar_belanja)
    # Keluar
    elif pilihan == 4:
        print("Program berhenti")
        break        

    else:
        print("Input tidak valid.")
    
